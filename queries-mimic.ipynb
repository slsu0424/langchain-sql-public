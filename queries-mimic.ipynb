{
    "cells": [
        {
            "cell_type": "code",
            "execution_count": 5,
            "metadata": {
                "azdata_cell_guid": "9b4984cd-542a-497d-a894-36dae794f955",
                "language": "sql",
                "tags": []
            },
            "outputs": [
                {
                    "data": {
                        "text/html": [
                            "(1 row affected)"
                        ]
                    },
                    "metadata": {},
                    "output_type": "display_data"
                },
                {
                    "data": {
                        "text/html": [
                            "Total execution time: 00:00:00.021"
                        ]
                    },
                    "metadata": {},
                    "output_type": "display_data"
                },
                {
                    "data": {
                        "application/vnd.dataresource+json": {
                            "data": [
                                {
                                    "(No column name)": "129"
                                }
                            ],
                            "schema": {
                                "fields": [
                                    {
                                        "name": "(No column name)"
                                    }
                                ]
                            }
                        },
                        "text/html": [
                            "<table><tr><th>(No column name)</th></tr><tr><td>129</td></tr></table>"
                        ]
                    },
                    "execution_count": 5,
                    "metadata": {},
                    "output_type": "execute_result"
                }
            ],
            "source": [
                "-- total number of admissions\n",
                "SELECT count(*)\n",
                "  FROM [dbo].[ADMISSIONS]"
            ]
        },
        {
            "cell_type": "code",
            "execution_count": 1,
            "metadata": {
                "azdata_cell_guid": "8b8a2456-a652-41d2-86be-a5d514ec5929",
                "language": "sql",
                "tags": []
            },
            "outputs": [
                {
                    "data": {
                        "text/html": [
                            "(10 rows affected)"
                        ]
                    },
                    "metadata": {},
                    "output_type": "display_data"
                },
                {
                    "data": {
                        "text/html": [
                            "Total execution time: 00:00:00.025"
                        ]
                    },
                    "metadata": {},
                    "output_type": "display_data"
                },
                {
                    "data": {
                        "application/vnd.dataresource+json": {
                            "data": [
                                {
                                    "admission_location": "EMERGENCY ROOM ADMIT",
                                    "admission_type": "EMERGENCY",
                                    "admittime": "2164-10-23 21:09:00.0000000",
                                    "deathtime": "NULL",
                                    "diagnosis": "SEPSIS",
                                    "discharge_location": "HOME HEALTH CARE",
                                    "dischtime": "2164-11-01 17:15:00.0000000",
                                    "edouttime": "2164-10-23 23:00:00.0000000",
                                    "edregtime": "2164-10-23 16:43:00.0000000",
                                    "ethnicity": "BLACK/AFRICAN AMERICAN",
                                    "hadm_id": "142345",
                                    "has_chartevents_data": "1",
                                    "hospital_expire_flag": "0",
                                    "insurance": "Medicare",
                                    "language": "NULL",
                                    "marital_status": "SEPARATED",
                                    "religion": "CATHOLIC",
                                    "row_id": "12258",
                                    "subject_id": "10006"
                                },
                                {
                                    "admission_location": "TRANSFER FROM HOSP/EXTRAM",
                                    "admission_type": "EMERGENCY",
                                    "admittime": "2126-08-14 22:32:00.0000000",
                                    "deathtime": "2126-08-28 18:59:00.0000000",
                                    "diagnosis": "HEPATITIS B",
                                    "discharge_location": "DEAD/EXPIRED",
                                    "dischtime": "2126-08-28 18:59:00.0000000",
                                    "edouttime": "NULL",
                                    "edregtime": "NULL",
                                    "ethnicity": "UNKNOWN/NOT SPECIFIED",
                                    "hadm_id": "105331",
                                    "has_chartevents_data": "1",
                                    "hospital_expire_flag": "1",
                                    "insurance": "Private",
                                    "language": "NULL",
                                    "marital_status": "SINGLE",
                                    "religion": "CATHOLIC",
                                    "row_id": "12263",
                                    "subject_id": "10011"
                                },
                                {
                                    "admission_location": "TRANSFER FROM HOSP/EXTRAM",
                                    "admission_type": "EMERGENCY",
                                    "admittime": "2125-10-04 23:36:00.0000000",
                                    "deathtime": "2125-10-07 15:13:00.0000000",
                                    "diagnosis": "SEPSIS",
                                    "discharge_location": "DEAD/EXPIRED",
                                    "dischtime": "2125-10-07 15:13:00.0000000",
                                    "edouttime": "NULL",
                                    "edregtime": "NULL",
                                    "ethnicity": "UNKNOWN/NOT SPECIFIED",
                                    "hadm_id": "165520",
                                    "has_chartevents_data": "1",
                                    "hospital_expire_flag": "1",
                                    "insurance": "Medicare",
                                    "language": "NULL",
                                    "marital_status": "NULL",
                                    "religion": "CATHOLIC",
                                    "row_id": "12265",
                                    "subject_id": "10013"
                                },
                                {
                                    "admission_location": "EMERGENCY ROOM ADMIT",
                                    "admission_type": "EMERGENCY",
                                    "admittime": "2149-05-26 17:19:00.0000000",
                                    "deathtime": "NULL",
                                    "diagnosis": "HUMERAL FRACTURE",
                                    "discharge_location": "SNF",
                                    "dischtime": "2149-06-03 18:42:00.0000000",
                                    "edouttime": "2149-05-26 19:45:00.0000000",
                                    "edregtime": "2149-05-26 12:08:00.0000000",
                                    "ethnicity": "WHITE",
                                    "hadm_id": "199207",
                                    "has_chartevents_data": "1",
                                    "hospital_expire_flag": "0",
                                    "insurance": "Medicare",
                                    "language": "NULL",
                                    "marital_status": "DIVORCED",
                                    "religion": "CATHOLIC",
                                    "row_id": "12269",
                                    "subject_id": "10017"
                                },
                                {
                                    "admission_location": "TRANSFER FROM HOSP/EXTRAM",
                                    "admission_type": "EMERGENCY",
                                    "admittime": "2163-05-14 20:43:00.0000000",
                                    "deathtime": "2163-05-15 12:00:00.0000000",
                                    "diagnosis": "ALCOHOLIC HEPATITIS",
                                    "discharge_location": "DEAD/EXPIRED",
                                    "dischtime": "2163-05-15 12:00:00.0000000",
                                    "edouttime": "NULL",
                                    "edregtime": "NULL",
                                    "ethnicity": "WHITE",
                                    "hadm_id": "177759",
                                    "has_chartevents_data": "1",
                                    "hospital_expire_flag": "1",
                                    "insurance": "Medicare",
                                    "language": "NULL",
                                    "marital_status": "DIVORCED",
                                    "religion": "CATHOLIC",
                                    "row_id": "12270",
                                    "subject_id": "10019"
                                },
                                {
                                    "admission_location": "EMERGENCY ROOM ADMIT",
                                    "admission_type": "EMERGENCY",
                                    "admittime": "2195-05-17 07:39:00.0000000",
                                    "deathtime": "NULL",
                                    "diagnosis": "STROKE/TIA",
                                    "discharge_location": "REHAB/DISTINCT PART HOSP",
                                    "dischtime": "2195-05-24 11:45:00.0000000",
                                    "edouttime": "2195-05-17 08:29:00.0000000",
                                    "edregtime": "2195-05-17 01:49:00.0000000",
                                    "ethnicity": "WHITE",
                                    "hadm_id": "103770",
                                    "has_chartevents_data": "1",
                                    "hospital_expire_flag": "0",
                                    "insurance": "Medicare",
                                    "language": "NULL",
                                    "marital_status": "NULL",
                                    "religion": "OTHER",
                                    "row_id": "12277",
                                    "subject_id": "10026"
                                },
                                {
                                    "admission_location": "PHYS REFERRAL/NORMAL DELI",
                                    "admission_type": "ELECTIVE",
                                    "admittime": "2190-07-13 07:15:00.0000000",
                                    "deathtime": "NULL",
                                    "diagnosis": "MITRAL REGURGITATION;CORONARY ARTERY DISEASE\\CORONARY ARTERY BYPASS GRAFT WITH MVR  ? MITRAL VALVE REPLACEMENT /SDA",
                                    "discharge_location": "SNF",
                                    "dischtime": "2190-07-25 14:00:00.0000000",
                                    "edouttime": "NULL",
                                    "edregtime": "NULL",
                                    "ethnicity": "WHITE",
                                    "hadm_id": "199395",
                                    "has_chartevents_data": "1",
                                    "hospital_expire_flag": "0",
                                    "insurance": "Medicare",
                                    "language": "NULL",
                                    "marital_status": "MARRIED",
                                    "religion": "CATHOLIC",
                                    "row_id": "12278",
                                    "subject_id": "10027"
                                },
                                {
                                    "admission_location": "EMERGENCY ROOM ADMIT",
                                    "admission_type": "EMERGENCY",
                                    "admittime": "2139-09-22 10:58:00.0000000",
                                    "deathtime": "NULL",
                                    "diagnosis": "SYNCOPE;TELEMETRY",
                                    "discharge_location": "SNF",
                                    "dischtime": "2139-10-02 14:29:00.0000000",
                                    "edouttime": "2139-09-22 11:50:00.0000000",
                                    "edregtime": "2139-09-22 06:03:00.0000000",
                                    "ethnicity": "WHITE",
                                    "hadm_id": "132349",
                                    "has_chartevents_data": "1",
                                    "hospital_expire_flag": "0",
                                    "insurance": "Medicare",
                                    "language": "NULL",
                                    "marital_status": "DIVORCED",
                                    "religion": "PROTESTANT QUAKER",
                                    "row_id": "12280",
                                    "subject_id": "10029"
                                },
                                {
                                    "admission_location": "EMERGENCY ROOM ADMIT",
                                    "admission_type": "EMERGENCY",
                                    "admittime": "2138-04-02 19:52:00.0000000",
                                    "deathtime": "NULL",
                                    "diagnosis": "RIGHT HUMEROUS FRACTURE",
                                    "discharge_location": "REHAB/DISTINCT PART HOSP",
                                    "dischtime": "2138-04-15 14:35:00.0000000",
                                    "edouttime": "2138-04-02 20:40:00.0000000",
                                    "edregtime": "2138-04-02 14:56:00.0000000",
                                    "ethnicity": "WHITE",
                                    "hadm_id": "140372",
                                    "has_chartevents_data": "1",
                                    "hospital_expire_flag": "0",
                                    "insurance": "Medicare",
                                    "language": "NULL",
                                    "marital_status": "WIDOWED",
                                    "religion": "CATHOLIC",
                                    "row_id": "12282",
                                    "subject_id": "10032"
                                },
                                {
                                    "admission_location": "EMERGENCY ROOM ADMIT",
                                    "admission_type": "EMERGENCY",
                                    "admittime": "2132-12-05 02:46:00.0000000",
                                    "deathtime": "NULL",
                                    "diagnosis": "RENAL FAILIURE-SYNCOPE-HYPERKALEMIA",
                                    "discharge_location": "SNF",
                                    "dischtime": "2132-12-08 15:15:00.0000000",
                                    "edouttime": "2132-12-05 04:05:00.0000000",
                                    "edregtime": "2132-12-04 20:11:00.0000000",
                                    "ethnicity": "WHITE",
                                    "hadm_id": "157235",
                                    "has_chartevents_data": "1",
                                    "hospital_expire_flag": "0",
                                    "insurance": "Medicare",
                                    "language": "POLI",
                                    "marital_status": "MARRIED",
                                    "religion": "CATHOLIC",
                                    "row_id": "12283",
                                    "subject_id": "10033"
                                }
                            ],
                            "schema": {
                                "fields": [
                                    {
                                        "name": "row_id"
                                    },
                                    {
                                        "name": "subject_id"
                                    },
                                    {
                                        "name": "hadm_id"
                                    },
                                    {
                                        "name": "admittime"
                                    },
                                    {
                                        "name": "dischtime"
                                    },
                                    {
                                        "name": "deathtime"
                                    },
                                    {
                                        "name": "admission_type"
                                    },
                                    {
                                        "name": "admission_location"
                                    },
                                    {
                                        "name": "discharge_location"
                                    },
                                    {
                                        "name": "insurance"
                                    },
                                    {
                                        "name": "language"
                                    },
                                    {
                                        "name": "religion"
                                    },
                                    {
                                        "name": "marital_status"
                                    },
                                    {
                                        "name": "ethnicity"
                                    },
                                    {
                                        "name": "edregtime"
                                    },
                                    {
                                        "name": "edouttime"
                                    },
                                    {
                                        "name": "diagnosis"
                                    },
                                    {
                                        "name": "hospital_expire_flag"
                                    },
                                    {
                                        "name": "has_chartevents_data"
                                    }
                                ]
                            }
                        },
                        "text/html": [
                            "<table><tr><th>row_id</th><th>subject_id</th><th>hadm_id</th><th>admittime</th><th>dischtime</th><th>deathtime</th><th>admission_type</th><th>admission_location</th><th>discharge_location</th><th>insurance</th><th>language</th><th>religion</th><th>marital_status</th><th>ethnicity</th><th>edregtime</th><th>edouttime</th><th>diagnosis</th><th>hospital_expire_flag</th><th>has_chartevents_data</th></tr><tr><td>12258</td><td>10006</td><td>142345</td><td>2164-10-23 21:09:00.0000000</td><td>2164-11-01 17:15:00.0000000</td><td>NULL</td><td>EMERGENCY</td><td>EMERGENCY ROOM ADMIT</td><td>HOME HEALTH CARE</td><td>Medicare</td><td>NULL</td><td>CATHOLIC</td><td>SEPARATED</td><td>BLACK/AFRICAN AMERICAN</td><td>2164-10-23 16:43:00.0000000</td><td>2164-10-23 23:00:00.0000000</td><td>SEPSIS</td><td>0</td><td>1</td></tr><tr><td>12263</td><td>10011</td><td>105331</td><td>2126-08-14 22:32:00.0000000</td><td>2126-08-28 18:59:00.0000000</td><td>2126-08-28 18:59:00.0000000</td><td>EMERGENCY</td><td>TRANSFER FROM HOSP/EXTRAM</td><td>DEAD/EXPIRED</td><td>Private</td><td>NULL</td><td>CATHOLIC</td><td>SINGLE</td><td>UNKNOWN/NOT SPECIFIED</td><td>NULL</td><td>NULL</td><td>HEPATITIS B</td><td>1</td><td>1</td></tr><tr><td>12265</td><td>10013</td><td>165520</td><td>2125-10-04 23:36:00.0000000</td><td>2125-10-07 15:13:00.0000000</td><td>2125-10-07 15:13:00.0000000</td><td>EMERGENCY</td><td>TRANSFER FROM HOSP/EXTRAM</td><td>DEAD/EXPIRED</td><td>Medicare</td><td>NULL</td><td>CATHOLIC</td><td>NULL</td><td>UNKNOWN/NOT SPECIFIED</td><td>NULL</td><td>NULL</td><td>SEPSIS</td><td>1</td><td>1</td></tr><tr><td>12269</td><td>10017</td><td>199207</td><td>2149-05-26 17:19:00.0000000</td><td>2149-06-03 18:42:00.0000000</td><td>NULL</td><td>EMERGENCY</td><td>EMERGENCY ROOM ADMIT</td><td>SNF</td><td>Medicare</td><td>NULL</td><td>CATHOLIC</td><td>DIVORCED</td><td>WHITE</td><td>2149-05-26 12:08:00.0000000</td><td>2149-05-26 19:45:00.0000000</td><td>HUMERAL FRACTURE</td><td>0</td><td>1</td></tr><tr><td>12270</td><td>10019</td><td>177759</td><td>2163-05-14 20:43:00.0000000</td><td>2163-05-15 12:00:00.0000000</td><td>2163-05-15 12:00:00.0000000</td><td>EMERGENCY</td><td>TRANSFER FROM HOSP/EXTRAM</td><td>DEAD/EXPIRED</td><td>Medicare</td><td>NULL</td><td>CATHOLIC</td><td>DIVORCED</td><td>WHITE</td><td>NULL</td><td>NULL</td><td>ALCOHOLIC HEPATITIS</td><td>1</td><td>1</td></tr><tr><td>12277</td><td>10026</td><td>103770</td><td>2195-05-17 07:39:00.0000000</td><td>2195-05-24 11:45:00.0000000</td><td>NULL</td><td>EMERGENCY</td><td>EMERGENCY ROOM ADMIT</td><td>REHAB/DISTINCT PART HOSP</td><td>Medicare</td><td>NULL</td><td>OTHER</td><td>NULL</td><td>WHITE</td><td>2195-05-17 01:49:00.0000000</td><td>2195-05-17 08:29:00.0000000</td><td>STROKE/TIA</td><td>0</td><td>1</td></tr><tr><td>12278</td><td>10027</td><td>199395</td><td>2190-07-13 07:15:00.0000000</td><td>2190-07-25 14:00:00.0000000</td><td>NULL</td><td>ELECTIVE</td><td>PHYS REFERRAL/NORMAL DELI</td><td>SNF</td><td>Medicare</td><td>NULL</td><td>CATHOLIC</td><td>MARRIED</td><td>WHITE</td><td>NULL</td><td>NULL</td><td>MITRAL REGURGITATION;CORONARY ARTERY DISEASE\\CORONARY ARTERY BYPASS GRAFT WITH MVR  ? MITRAL VALVE REPLACEMENT /SDA</td><td>0</td><td>1</td></tr><tr><td>12280</td><td>10029</td><td>132349</td><td>2139-09-22 10:58:00.0000000</td><td>2139-10-02 14:29:00.0000000</td><td>NULL</td><td>EMERGENCY</td><td>EMERGENCY ROOM ADMIT</td><td>SNF</td><td>Medicare</td><td>NULL</td><td>PROTESTANT QUAKER</td><td>DIVORCED</td><td>WHITE</td><td>2139-09-22 06:03:00.0000000</td><td>2139-09-22 11:50:00.0000000</td><td>SYNCOPE;TELEMETRY</td><td>0</td><td>1</td></tr><tr><td>12282</td><td>10032</td><td>140372</td><td>2138-04-02 19:52:00.0000000</td><td>2138-04-15 14:35:00.0000000</td><td>NULL</td><td>EMERGENCY</td><td>EMERGENCY ROOM ADMIT</td><td>REHAB/DISTINCT PART HOSP</td><td>Medicare</td><td>NULL</td><td>CATHOLIC</td><td>WIDOWED</td><td>WHITE</td><td>2138-04-02 14:56:00.0000000</td><td>2138-04-02 20:40:00.0000000</td><td>RIGHT HUMEROUS FRACTURE</td><td>0</td><td>1</td></tr><tr><td>12283</td><td>10033</td><td>157235</td><td>2132-12-05 02:46:00.0000000</td><td>2132-12-08 15:15:00.0000000</td><td>NULL</td><td>EMERGENCY</td><td>EMERGENCY ROOM ADMIT</td><td>SNF</td><td>Medicare</td><td>POLI</td><td>CATHOLIC</td><td>MARRIED</td><td>WHITE</td><td>2132-12-04 20:11:00.0000000</td><td>2132-12-05 04:05:00.0000000</td><td>RENAL FAILIURE-SYNCOPE-HYPERKALEMIA</td><td>0</td><td>1</td></tr></table>"
                        ]
                    },
                    "execution_count": 1,
                    "metadata": {},
                    "output_type": "execute_result"
                }
            ],
            "source": [
                "-- top 10 records\n",
                "SELECT top 10 * \n",
                "    FROM [dbo].[ADMISSIONS]"
            ]
        },
        {
            "cell_type": "code",
            "execution_count": 4,
            "metadata": {
                "azdata_cell_guid": "59454451-9ab1-46ce-9412-748d389891cd",
                "language": "sql",
                "tags": []
            },
            "outputs": [
                {
                    "data": {
                        "text/html": [
                            "(9 rows affected)"
                        ]
                    },
                    "metadata": {},
                    "output_type": "display_data"
                },
                {
                    "data": {
                        "text/html": [
                            "Total execution time: 00:00:00.031"
                        ]
                    },
                    "metadata": {},
                    "output_type": "display_data"
                },
                {
                    "data": {
                        "application/vnd.dataresource+json": {
                            "data": [
                                {
                                    "FREQUENCY": "86",
                                    "ethnicity": "WHITE"
                                },
                                {
                                    "FREQUENCY": "15",
                                    "ethnicity": "HISPANIC/LATINO - PUERTO RICAN"
                                },
                                {
                                    "FREQUENCY": "11",
                                    "ethnicity": "UNKNOWN/NOT SPECIFIED"
                                },
                                {
                                    "FREQUENCY": "7",
                                    "ethnicity": "BLACK/AFRICAN AMERICAN"
                                },
                                {
                                    "FREQUENCY": "3",
                                    "ethnicity": "OTHER"
                                },
                                {
                                    "FREQUENCY": "2",
                                    "ethnicity": "HISPANIC OR LATINO"
                                },
                                {
                                    "FREQUENCY": "2",
                                    "ethnicity": "AMERICAN INDIAN/ALASKA NATIVE FEDERALLY RECOGNIZED TRIBE"
                                },
                                {
                                    "FREQUENCY": "2",
                                    "ethnicity": "ASIAN"
                                },
                                {
                                    "FREQUENCY": "1",
                                    "ethnicity": "UNABLE TO OBTAIN"
                                }
                            ],
                            "schema": {
                                "fields": [
                                    {
                                        "name": "ethnicity"
                                    },
                                    {
                                        "name": "FREQUENCY"
                                    }
                                ]
                            }
                        },
                        "text/html": [
                            "<table><tr><th>ethnicity</th><th>FREQUENCY</th></tr><tr><td>WHITE</td><td>86</td></tr><tr><td>HISPANIC/LATINO - PUERTO RICAN</td><td>15</td></tr><tr><td>UNKNOWN/NOT SPECIFIED</td><td>11</td></tr><tr><td>BLACK/AFRICAN AMERICAN</td><td>7</td></tr><tr><td>OTHER</td><td>3</td></tr><tr><td>HISPANIC OR LATINO</td><td>2</td></tr><tr><td>AMERICAN INDIAN/ALASKA NATIVE FEDERALLY RECOGNIZED TRIBE</td><td>2</td></tr><tr><td>ASIAN</td><td>2</td></tr><tr><td>UNABLE TO OBTAIN</td><td>1</td></tr></table>"
                        ]
                    },
                    "execution_count": 4,
                    "metadata": {},
                    "output_type": "execute_result"
                }
            ],
            "source": [
                " -- ethnicity frequency\n",
                " Select ethnicity, count(*) as FREQUENCY\n",
                " From   [dbo].[ADMISSIONS]\n",
                " Group By ethnicity\n",
                " Order By FREQUENCY DESC"
            ]
        }
    ],
    "metadata": {
        "kernelspec": {
            "display_name": "SQL",
            "language": "sql",
            "name": "SQL"
        },
        "language_info": {
            "name": "sql",
            "version": ""
        }
    },
    "nbformat": 4,
    "nbformat_minor": 2
}
